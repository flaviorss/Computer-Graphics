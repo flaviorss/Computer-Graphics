{
 "cells": [
  {
   "cell_type": "markdown",
   "metadata": {},
   "source": [
    "## Ideia basica para o projeto... apenas um rascunho com a interface"
   ]
  },
  {
   "cell_type": "code",
   "execution_count": null,
   "metadata": {},
   "outputs": [],
   "source": [
    "import tkinter as tk\n",
    "from tkinter import filedialog\n",
    "import xml.etree.ElementTree as ET\n",
    "\n",
    "class Visualizador:\n",
    "    def __init__(self, root):\n",
    "        self.root = root\n",
    "        self.root.title(\"Visualizador de Objetos 2D\")\n",
    "        \n",
    "        # Configurar o menu\n",
    "        menu = tk.Menu(root)\n",
    "        root.config(menu=menu)\n",
    "        file_menu = tk.Menu(menu)\n",
    "        menu.add_cascade(label=\"Arquivo\", menu=file_menu)\n",
    "        file_menu.add_command(label=\"Abrir\", command=self.abrir_arquivo)\n",
    "        \n",
    "        # Frame principal para conter canvas e minimapa\n",
    "        frame_principal = tk.Frame(root)\n",
    "        frame_principal.pack(fill=\"both\", expand=True)\n",
    "        \n",
    "        # Desenhar as viewports\n",
    "        # estes dados deverão ser lidos do arquivo de entrada...\n",
    "        largura = 800\n",
    "        altura = 600\n",
    "        # canvas da Viewport principal\n",
    "        self.canvas = tk.Canvas(frame_principal, width=largura, height=altura, bg=\"white\")\n",
    "        self.canvas.pack(side=\"left\", fill=\"both\", expand=True)\n",
    "        \n",
    "        # Canvas do minimapa na lateral direita\n",
    "        # usar um tamanho fixo para o minimapa\n",
    "        self.minimap = tk.Canvas(frame_principal, width=150, height=120, bg=\"lightgrey\") # razão de aspecto 4:3\n",
    "        self.minimap.pack(side=\"right\", padx=10, pady=10)\n",
    "\n",
    "\n",
    "    # apenas abrir o arquivo e chamar a função para carregar seus dados...\n",
    "    def abrir_arquivo(self):\n",
    "        pass\n",
    "\n",
    "    # ler os dados do arquivo aberto\n",
    "    def carregar_arquivo(self, caminho):\n",
    "        pass\n",
    "    \n",
    "    # aplicar a transformada de viewport a um ponto e retornar o ponto calculado\n",
    "    def window2viewport(self, ponto, window, viewport):\n",
    "        pass\n",
    "\n",
    "\n",
    "    # redensenhar a viewport\n",
    "    def desenhar_viewport(self):\n",
    "        pass\n",
    "\n",
    "    # desenhar a viewport do minimapa\n",
    "    def desenhar_minimapa(self):\n",
    "        pass\n",
    "        \n",
    "  \n",
    "if __name__ == \"__main__\":\n",
    "    root = tk.Tk()\n",
    "    app = Visualizador(root)\n",
    "    root.mainloop()\n"
   ]
  }
 ],
 "metadata": {
  "kernelspec": {
   "display_name": "Python 3",
   "language": "python",
   "name": "python3"
  },
  "language_info": {
   "name": "python",
   "version": "3.13.0"
  }
 },
 "nbformat": 4,
 "nbformat_minor": 2
}
